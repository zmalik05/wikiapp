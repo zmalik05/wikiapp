{
 "cells": [
  {
   "cell_type": "markdown",
   "id": "23800991-aba2-4d89-b5ed-415b23eb0394",
   "metadata": {},
   "source": [
    "---\n",
    "title: Console Module\n",
    "---"
   ]
  },
  {
   "cell_type": "code",
   "execution_count": null,
   "id": "f57a611c-c9d7-42d3-89a6-0ced6ed220b9",
   "metadata": {},
   "outputs": [],
   "source": [
    "from wikiapp.console import main"
   ]
  },
  {
   "cell_type": "code",
   "execution_count": null,
   "id": "1be110b0-3941-4c07-b8b0-7a614ca54d08",
   "metadata": {},
   "outputs": [],
   "source": [
    "from nbdev import show_doc\n",
    "from click.testing import CliRunner\n",
    "runner = CliRunner()"
   ]
  },
  {
   "cell_type": "code",
   "execution_count": 2,
   "id": "3013e8d8-b73f-44fe-a5b3-25b7db54af9f",
   "metadata": {},
   "outputs": [
    {
     "ename": "NameError",
     "evalue": "name 'show_doc' is not defined",
     "output_type": "error",
     "traceback": [
      "\u001b[0;31m---------------------------------------------------------------------------\u001b[0m",
      "\u001b[0;31mNameError\u001b[0m                                 Traceback (most recent call last)",
      "Cell \u001b[0;32mIn[2], line 1\u001b[0m\n\u001b[0;32m----> 1\u001b[0m \u001b[43mshow_doc\u001b[49m(main)\n",
      "\u001b[0;31mNameError\u001b[0m: name 'show_doc' is not defined"
     ]
    }
   ],
   "source": [
    "show_doc(main)"
   ]
  },
  {
   "cell_type": "markdown",
   "id": "4e44dc6a-d0b2-44fe-871a-4d570bd9ae39",
   "metadata": {},
   "source": [
    "Examples"
   ]
  },
  {
   "cell_type": "code",
   "execution_count": 3,
   "id": "5c4405da-855d-459a-b231-e92b34300f42",
   "metadata": {},
   "outputs": [
    {
     "ename": "NameError",
     "evalue": "name 'CliRunner' is not defined",
     "output_type": "error",
     "traceback": [
      "\u001b[0;31m---------------------------------------------------------------------------\u001b[0m",
      "\u001b[0;31mNameError\u001b[0m                                 Traceback (most recent call last)",
      "Cell \u001b[0;32mIn[3], line 1\u001b[0m\n\u001b[0;32m----> 1\u001b[0m \u001b[43mCliRunner\u001b[49m\u001b[38;5;241m.\u001b[39minvoke(main)\n",
      "\u001b[0;31mNameError\u001b[0m: name 'CliRunner' is not defined"
     ]
    }
   ],
   "source": [
    "CliRunner.invoke(main)"
   ]
  },
  {
   "cell_type": "code",
   "execution_count": null,
   "id": "3e2d5303-a7b2-4bc0-bf30-c8af0194897f",
   "metadata": {},
   "outputs": [],
   "source": []
  }
 ],
 "metadata": {
  "kernelspec": {
   "display_name": "Python 3 (ipykernel)",
   "language": "python",
   "name": "python3"
  },
  "language_info": {
   "codemirror_mode": {
    "name": "ipython",
    "version": 3
   },
   "file_extension": ".py",
   "mimetype": "text/x-python",
   "name": "python",
   "nbconvert_exporter": "python",
   "pygments_lexer": "ipython3",
   "version": "3.12.3"
  }
 },
 "nbformat": 4,
 "nbformat_minor": 5
}
